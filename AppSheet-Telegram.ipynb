{
  "nbformat": 4,
  "nbformat_minor": 0,
  "metadata": {
    "colab": {
      "provenance": [],
      "toc_visible": true,
      "authorship_tag": "ABX9TyPLp1im1r3NvgVU2T8PjVZi",
      "include_colab_link": true
    },
    "kernelspec": {
      "name": "python3",
      "display_name": "Python 3"
    },
    "language_info": {
      "name": "python"
    }
  },
  "cells": [
    {
      "cell_type": "markdown",
      "metadata": {
        "id": "view-in-github",
        "colab_type": "text"
      },
      "source": [
        "<a href=\"https://colab.research.google.com/github/Kanyarat-san/AppSheet-Telegram/blob/main/AppSheet-Telegram.ipynb\" target=\"_parent\"><img src=\"https://colab.research.google.com/assets/colab-badge.svg\" alt=\"Open In Colab\"/></a>"
      ]
    },
    {
      "cell_type": "markdown",
      "source": [
        "**TelegramBot**\n"
      ],
      "metadata": {
        "id": "NndIx-qJmP4B"
      }
    },
    {
      "cell_type": "markdown",
      "source": [],
      "metadata": {
        "id": "ZA3vHKJEnC5b"
      }
    },
    {
      "cell_type": "markdown",
      "source": [
        "URL สำหรับเรียกดู **chat_id**"
      ],
      "metadata": {
        "id": "EAN7uWREmdA3"
      }
    },
    {
      "cell_type": "markdown",
      "source": [
        "https://api.telegram.org/bot + {Token} /getChat?chat_id= + {USER_ID}"
      ],
      "metadata": {
        "id": "cmEdxpgRnBuT"
      }
    },
    {
      "cell_type": "markdown",
      "source": [
        "https://api.telegram.org/bot + {Token} /getUpdates\n",
        "//Token ***แจ้งปัญหาเครื่องจักร PCG * **\n",
        "*\"7488727643:AAG_X3DrQu2UO6-WkWue3qIMo7iGwIK_sEg\"*\n",
        "*ID \"7854259657\"*"
      ],
      "metadata": {
        "id": "N3z5GgYomlDX"
      }
    },
    {
      "cell_type": "markdown",
      "source": [
        "ตัวอย่าง **การส่งข้อความธรรมดา** APPSheet Telegram"
      ],
      "metadata": {
        "id": "d0OsVf8VnaoV"
      }
    },
    {
      "cell_type": "markdown",
      "source": [
        "  {\n",
        "    chat_id: \"YOUR_CHAT_ID\",\n",
        "    text: \"ข้อความพร้อมฟอร์แมต *ตัวหนา* และ _ตัวเอียง_\",\n",
        "    parse_mode: \"Markdown\",\n",
        "  }"
      ],
      "metadata": {
        "id": "cZiYOV6dnlyk"
      }
    },
    {
      "cell_type": "markdown",
      "source": [
        "{\n",
        "  \"chat_id\": \"7854259657\",\n",
        "  \"text\": \"วันที่แจ้งปัญหา: <<[วันที่แจ้งปัญหา]>>\n",
        "\\nชื่อเครื่องจักร: <<[ชื่อเครื่องจักร]>>\n",
        "\\nอาการเสียของเครื่องจักร: <<[อาการเสียของเครื่องจักร]>>\n",
        "\\nการดำเนินการเบื้องต้น: <<[การดำเนินการเบื้องต้น]>>\n",
        "\\nรายละเอียดปัญหาเพิ่มเติม: <<[รายละเอียดปัญหาเพิ่มเติม]>>\",\n",
        "  \"parse_mode\": \"Markdown\"\n",
        "}"
      ],
      "metadata": {
        "id": "BOoW_6gmnome"
      }
    },
    {
      "cell_type": "markdown",
      "source": [
        "{\n",
        "  \"chat_id\": \"7854259657\",\n",
        "  \"photo\": \"<<[รูปภาพ]>>\",\n",
        "  \"caption\": \"รูปภาพพร้อมคำอธิบาย\",\n",
        "}"
      ],
      "metadata": {
        "id": "P4D42_Penojc"
      }
    },
    {
      "cell_type": "markdown",
      "source": [
        "https://github.com/Raphassith/TelegramBot/"
      ],
      "metadata": {
        "id": "O0KFfE-toBhq"
      }
    }
  ]
}